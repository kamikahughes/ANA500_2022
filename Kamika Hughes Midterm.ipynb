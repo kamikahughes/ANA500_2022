{
 "cells": [
  {
   "cell_type": "markdown",
   "id": "1214cc96",
   "metadata": {},
   "source": [
    "Kamika Hughes\n",
    "Midterm"
   ]
  },
  {
   "cell_type": "markdown",
   "id": "e876586a",
   "metadata": {},
   "source": [
    "Question 1: Explain the role of Python in data science.\n",
    "\n",
    "The usefulness of Python for data science stems primarily from the large and active ecosystem of third-party packages: NumPy for manipulation of homogeneous array-based data, Pandas for manipulation of heterogeneous and labeled data, SciPy for common scientific computing tasks, Matplotlib for publication-quality visualizations, IPython for interactive execution and sharing of code, Scikit-Learn for machine learning, and many more tools that will be mentioned in the following pages."
   ]
  },
  {
   "cell_type": "markdown",
   "id": "23f72320",
   "metadata": {},
   "source": [
    "Question 2: Explain the scientific method. \n",
    "\n",
    "The scientific method is the process of objectively establishing facts through testing and experimentation. The basic process involves making an observation, forming a hypothesis, making a prediction, conducting an experiment and finally analyzing the results."
   ]
  },
  {
   "cell_type": "markdown",
   "id": "1ca06b3d",
   "metadata": {},
   "source": [
    "Question 3: Outline the typical steps in a data science project and provide a brief description of each.\n",
    "\n",
    "Acquire – identify data sets, retrieve data, query data\n",
    "Prepare – explore and pre-process data\n",
    "Analyze data – select analytical technique, build models\n",
    "Report – communicate results\n",
    "Act – apply results, connect results with the chosen problem statement or business question"
   ]
  },
  {
   "cell_type": "markdown",
   "id": "a38cd42e",
   "metadata": {},
   "source": [
    "Question 4: SA: Create the variables x = 2 and y = 3, then determine what each of the following statements displays: \n",
    "a.\tprint('x =', x)\n",
    "b.\tprint('Value of', x, '+', x, 'is', (x + x))\n",
    "c.\tprint('x =')\n",
    "d.\tprint((x + y), 'x =', (y + x))\n"
   ]
  },
  {
   "cell_type": "code",
   "execution_count": 16,
   "id": "5b3f55a4",
   "metadata": {},
   "outputs": [],
   "source": [
    "x = 2\n",
    "y = 3"
   ]
  },
  {
   "cell_type": "code",
   "execution_count": 17,
   "id": "b26500b3",
   "metadata": {},
   "outputs": [
    {
     "name": "stdout",
     "output_type": "stream",
     "text": [
      "x= 2\n"
     ]
    }
   ],
   "source": [
    "print('x=',x)"
   ]
  },
  {
   "cell_type": "code",
   "execution_count": 18,
   "id": "359a9952",
   "metadata": {},
   "outputs": [
    {
     "name": "stdout",
     "output_type": "stream",
     "text": [
      "Value of 2 + 2 is 4\n"
     ]
    }
   ],
   "source": [
    "print('Value of',x,'+',x,'is',(x+x))"
   ]
  },
  {
   "cell_type": "code",
   "execution_count": 19,
   "id": "3f0073ee",
   "metadata": {},
   "outputs": [
    {
     "name": "stdout",
     "output_type": "stream",
     "text": [
      "5 x= 5\n"
     ]
    }
   ],
   "source": [
    "print((x+y),'x=',(y+x))"
   ]
  },
  {
   "cell_type": "markdown",
   "id": "4f1ae2c7",
   "metadata": {},
   "source": [
    "Question 5: Replace *** in the following code with a statement that will print a message like 'Congratulations! Your grade of 91 earns you an A in this course'. Your statement should print the value stored in the variable grade:\n",
    "\n",
    "if grade >= 90:\n",
    "    ***\n"
   ]
  },
  {
   "cell_type": "code",
   "execution_count": 20,
   "id": "74f10127",
   "metadata": {},
   "outputs": [
    {
     "name": "stdout",
     "output_type": "stream",
     "text": [
      "Congratulations! Your grade of 91 earns you an A in this course\n"
     ]
    }
   ],
   "source": [
    "grade = 91\n",
    "if grade>=90: print('Congratulations! Your grade of', grade, 'earns you an A in this course')"
   ]
  },
  {
   "cell_type": "markdown",
   "id": "bf9d3a04",
   "metadata": {},
   "source": [
    "Question 6: (Control statements and program development, Turing Test) The great British mathematician Alan Turing proposed a simple test to determine whether machines could exhibit intelligent behavior. A user sits at a computer and does the same text chat with a human sitting at a computer and a computer operating by itself. The user doesn’t know if the responses are coming back from the human or the independent computer. If the user can’t distinguish which responses are coming from the human and which are coming from the computer, then it’s reasonable to say that the computer is exhibiting intelligence.\n",
    "Create a script that plays the part of the independent computer, giving its user a simple medical diagnosis. The script should prompt the user with 'What is your problem?' When the user answers and presses Enter, the script should simply ignore the user’s input, then prompt the user again with 'Have you had this problem before (yes or no)?' If the user enters 'yes', print 'Well, you have it again.' If the user answers 'no', print 'Well, you have it now.' Would this conversation convince the user that the entity at the other end exhibited intelligent behavior? Why or why not?\n"
   ]
  },
  {
   "cell_type": "code",
   "execution_count": 29,
   "id": "2401b259",
   "metadata": {},
   "outputs": [
    {
     "name": "stdout",
     "output_type": "stream",
     "text": [
      "What is your problem?I need glasses\n",
      "Have you had this problem before (yes or no)?no\n",
      "Well, you have it now.\n"
     ]
    }
   ],
   "source": [
    "input('What is your problem?')\n",
    "answer = input('Have you had this problem before (yes or no)?')\n",
    "if answer =='yes':\n",
    "    print('Well, you have it again.')\n",
    "elif answer =='no':\n",
    "        print('Well, you have it now.')"
   ]
  },
  {
   "cell_type": "markdown",
   "id": "953d66ea",
   "metadata": {},
   "source": [
    "This conversation would not convince a user that the entity at the other end exhibited intelligent behavior because the user could end up asking for something like glasses and then the response would not be correct. This would need many more levels added in order to help fool the user."
   ]
  },
  {
   "cell_type": "markdown",
   "id": "68527e94",
   "metadata": {},
   "source": [
    " Question 7: (Broadcasting) Use arange to create a 2-by-2 array containing the numbers 0–3. Use broadcasting to perform each of the following operations on the original array:\n",
    "a.\tCube every element of the array.\n",
    "b.\tAdd 7 to every element of the array.\n",
    "c.\tMultiply every element of the array by 2.\n"
   ]
  },
  {
   "cell_type": "code",
   "execution_count": 31,
   "id": "149acda5",
   "metadata": {},
   "outputs": [],
   "source": [
    "import numpy as np"
   ]
  },
  {
   "cell_type": "code",
   "execution_count": 58,
   "id": "b08a7c16",
   "metadata": {},
   "outputs": [
    {
     "name": "stdout",
     "output_type": "stream",
     "text": [
      "[[0 1]\n",
      " [2 3]]\n"
     ]
    }
   ],
   "source": [
    "arr = np.arange(4).reshape(2,2)\n",
    "print(arr)"
   ]
  },
  {
   "cell_type": "code",
   "execution_count": 59,
   "id": "233e5a5f",
   "metadata": {},
   "outputs": [
    {
     "data": {
      "text/plain": [
       "array([[ 0,  1],\n",
       "       [ 8, 27]], dtype=int32)"
      ]
     },
     "execution_count": 59,
     "metadata": {},
     "output_type": "execute_result"
    }
   ],
   "source": [
    "np.power(arr,3)"
   ]
  },
  {
   "cell_type": "code",
   "execution_count": 60,
   "id": "710b4500",
   "metadata": {},
   "outputs": [
    {
     "data": {
      "text/plain": [
       "array([[5, 6],\n",
       "       [7, 8]])"
      ]
     },
     "execution_count": 60,
     "metadata": {},
     "output_type": "execute_result"
    }
   ],
   "source": [
    "arr+5"
   ]
  },
  {
   "cell_type": "code",
   "execution_count": 61,
   "id": "85b1a1bc",
   "metadata": {},
   "outputs": [
    {
     "data": {
      "text/plain": [
       "array([[0, 2],\n",
       "       [4, 6]])"
      ]
     },
     "execution_count": 61,
     "metadata": {},
     "output_type": "execute_result"
    }
   ],
   "source": [
    "arr*2"
   ]
  },
  {
   "cell_type": "markdown",
   "id": "bccfe41c",
   "metadata": {},
   "source": [
    "Question 8: (Indexing and Slicing arrays) Create an array containing the values 1–15, reshape it into a 3-by-5 array, then use indexing and slicing techniques to perform each of the following operations:\n",
    "a.\tSelect row 2.\n",
    "b.\tSelect column 5.\n",
    "c.\tSelect rows 0 and 1.\n",
    "d.\tSelect columns 2–4.\n",
    "e.\tSelect the element that is in row 1 and column 4.\n",
    "f.\tSelect all elements from rows 1 and 2 that are in columns 0, 2 and 4.\n"
   ]
  },
  {
   "cell_type": "code",
   "execution_count": 68,
   "id": "216d93d7",
   "metadata": {},
   "outputs": [
    {
     "name": "stdout",
     "output_type": "stream",
     "text": [
      "[[ 1  2  3  4  5]\n",
      " [ 6  7  8  9 10]\n",
      " [11 12 13 14 15]]\n"
     ]
    }
   ],
   "source": [
    "new = np.arange(1,16).reshape(3,5)\n",
    "print(new)"
   ]
  },
  {
   "cell_type": "code",
   "execution_count": 77,
   "id": "bf9961c6",
   "metadata": {},
   "outputs": [
    {
     "data": {
      "text/plain": [
       "array([ 6,  7,  8,  9, 10])"
      ]
     },
     "execution_count": 77,
     "metadata": {},
     "output_type": "execute_result"
    }
   ],
   "source": [
    "new[1]"
   ]
  },
  {
   "cell_type": "markdown",
   "id": "e2c19ec0",
   "metadata": {},
   "source": [
    "For operation B, there is no column 5 because in python, the index starts at 0. I selected column 4 below in case this was a typo"
   ]
  },
  {
   "cell_type": "code",
   "execution_count": 71,
   "id": "1d783d0a",
   "metadata": {},
   "outputs": [
    {
     "data": {
      "text/plain": [
       "array([ 5, 10, 15])"
      ]
     },
     "execution_count": 71,
     "metadata": {},
     "output_type": "execute_result"
    }
   ],
   "source": [
    "new[:,4]"
   ]
  },
  {
   "cell_type": "code",
   "execution_count": 81,
   "id": "3163d531",
   "metadata": {},
   "outputs": [
    {
     "data": {
      "text/plain": [
       "array([[ 1,  2,  3,  4,  5],\n",
       "       [ 6,  7,  8,  9, 10]])"
      ]
     },
     "execution_count": 81,
     "metadata": {},
     "output_type": "execute_result"
    }
   ],
   "source": [
    "new[[0, 1], :]"
   ]
  },
  {
   "cell_type": "code",
   "execution_count": 98,
   "id": "b8c604fc",
   "metadata": {},
   "outputs": [
    {
     "data": {
      "text/plain": [
       "array([[ 3,  4,  5],\n",
       "       [ 8,  9, 10],\n",
       "       [13, 14, 15]])"
      ]
     },
     "execution_count": 98,
     "metadata": {},
     "output_type": "execute_result"
    }
   ],
   "source": [
    "new[:, [2,3,4]]"
   ]
  },
  {
   "cell_type": "code",
   "execution_count": 99,
   "id": "73d53bc0",
   "metadata": {},
   "outputs": [
    {
     "data": {
      "text/plain": [
       "array([10])"
      ]
     },
     "execution_count": 99,
     "metadata": {},
     "output_type": "execute_result"
    }
   ],
   "source": [
    "new[[1],[4]]"
   ]
  },
  {
   "cell_type": "code",
   "execution_count": 101,
   "id": "c1589c1c",
   "metadata": {},
   "outputs": [
    {
     "data": {
      "text/plain": [
       "array([[ 6,  8, 10],\n",
       "       [11, 13, 15]])"
      ]
     },
     "execution_count": 101,
     "metadata": {},
     "output_type": "execute_result"
    }
   ],
   "source": [
    "new[[1,2], :][:, [0,2,4]] "
   ]
  },
  {
   "cell_type": "markdown",
   "id": "5506516a",
   "metadata": {},
   "source": [
    "Question 9: Analysis: (Intro to Data Science: Duplicate Elimination and Counting Frequencies) Use a list comprehension to create a list of 50 random values in the range 1 through 10. Use NumPy’s unique function to obtain the unique values and their frequencies. Display the results."
   ]
  },
  {
   "cell_type": "code",
   "execution_count": 102,
   "id": "27a6e3d4",
   "metadata": {},
   "outputs": [],
   "source": [
    "import random"
   ]
  },
  {
   "cell_type": "code",
   "execution_count": 108,
   "id": "562953bb",
   "metadata": {},
   "outputs": [
    {
     "name": "stdout",
     "output_type": "stream",
     "text": [
      "[[1 3]\n",
      " [2 2]\n",
      " [3 9]\n",
      " [4 8]\n",
      " [5 6]\n",
      " [6 8]\n",
      " [7 4]\n",
      " [8 3]\n",
      " [9 7]]\n"
     ]
    }
   ],
   "source": [
    "x= np.random.randint(1,10,50)\n",
    "unique, counts = np.unique(x, return_counts=True)\n",
    "print(np.asarray((unique, counts)).T)"
   ]
  },
  {
   "cell_type": "markdown",
   "id": "31749fd3",
   "metadata": {},
   "source": [
    "Question 10: Analysis: (Intro to Data Science: Survey Response Statistics) Twenty students were asked to rate on a scale of 1 to 5 the quality of the food in the student cafeteria, with 1 being “awful” and 5 being “excellent.” Place the 20 responses in a list:\n",
    "1,2,5,4,3,5,2,1,3,3,1,4,3,3,3,2,3,3,2,5"
   ]
  },
  {
   "cell_type": "code",
   "execution_count": 109,
   "id": "9fd63e51",
   "metadata": {},
   "outputs": [
    {
     "data": {
      "text/plain": [
       "[1, 2, 5, 4, 3, 5, 2, 1, 3, 3, 1, 4, 3, 3, 3, 2, 3, 3, 2, 5]"
      ]
     },
     "execution_count": 109,
     "metadata": {},
     "output_type": "execute_result"
    }
   ],
   "source": [
    "my_list = [1,2,5,4,3,5,2,1,3,3,1,4,3,3,3,2,3,3,2,5]\n",
    "my_list"
   ]
  },
  {
   "cell_type": "markdown",
   "id": "e31a7e50",
   "metadata": {},
   "source": [
    "Question 10 cont: Determine and display the frequency of each rating. Use the built-in functions, statistics module functions and NumPy functions to display the following response statistics: minimum, maximum, range, mean, median, mode, variance and standard deviation."
   ]
  },
  {
   "cell_type": "code",
   "execution_count": 112,
   "id": "bba32ef4",
   "metadata": {},
   "outputs": [
    {
     "data": {
      "text/plain": [
       "1"
      ]
     },
     "execution_count": 112,
     "metadata": {},
     "output_type": "execute_result"
    }
   ],
   "source": [
    "min(my_list)"
   ]
  },
  {
   "cell_type": "code",
   "execution_count": 111,
   "id": "dc214b87",
   "metadata": {},
   "outputs": [
    {
     "data": {
      "text/plain": [
       "5"
      ]
     },
     "execution_count": 111,
     "metadata": {},
     "output_type": "execute_result"
    }
   ],
   "source": [
    "max(my_list)"
   ]
  },
  {
   "cell_type": "code",
   "execution_count": 124,
   "id": "689ea5cb",
   "metadata": {},
   "outputs": [
    {
     "name": "stdout",
     "output_type": "stream",
     "text": [
      "The range is 1, 5\n"
     ]
    }
   ],
   "source": [
    "minimum = min(my_list)\n",
    "maximum = max(my_list)\n",
    "\n",
    "print(f'The range is {minimum}, {maximum}')"
   ]
  },
  {
   "cell_type": "code",
   "execution_count": 117,
   "id": "dc891066",
   "metadata": {},
   "outputs": [],
   "source": [
    "import statistics"
   ]
  },
  {
   "cell_type": "code",
   "execution_count": 118,
   "id": "45c1a511",
   "metadata": {},
   "outputs": [
    {
     "data": {
      "text/plain": [
       "2.9"
      ]
     },
     "execution_count": 118,
     "metadata": {},
     "output_type": "execute_result"
    }
   ],
   "source": [
    "statistics.mean(my_list)"
   ]
  },
  {
   "cell_type": "code",
   "execution_count": 119,
   "id": "1338db60",
   "metadata": {},
   "outputs": [
    {
     "data": {
      "text/plain": [
       "3.0"
      ]
     },
     "execution_count": 119,
     "metadata": {},
     "output_type": "execute_result"
    }
   ],
   "source": [
    "statistics.median(my_list)"
   ]
  },
  {
   "cell_type": "code",
   "execution_count": 120,
   "id": "a36c7659",
   "metadata": {},
   "outputs": [
    {
     "data": {
      "text/plain": [
       "3"
      ]
     },
     "execution_count": 120,
     "metadata": {},
     "output_type": "execute_result"
    }
   ],
   "source": [
    "statistics.mode(my_list)"
   ]
  },
  {
   "cell_type": "code",
   "execution_count": 122,
   "id": "01622d3b",
   "metadata": {},
   "outputs": [
    {
     "name": "stdout",
     "output_type": "stream",
     "text": [
      "1.49\n"
     ]
    }
   ],
   "source": [
    "print(np.var(my_list))"
   ]
  },
  {
   "cell_type": "code",
   "execution_count": 123,
   "id": "ba7bbeec",
   "metadata": {},
   "outputs": [
    {
     "name": "stdout",
     "output_type": "stream",
     "text": [
      "1.2206555615733703\n"
     ]
    }
   ],
   "source": [
    "print(np.std(my_list))"
   ]
  },
  {
   "cell_type": "markdown",
   "id": "beb0f9ef",
   "metadata": {},
   "source": [
    "Question 11: Analysis: (Intro to Data Science: Visualizing Survey Response Statistics) Using the list in the previous problem (Problem 10.), display a bar chart showing the response frequencies and their percentages of the total responses."
   ]
  },
  {
   "cell_type": "code",
   "execution_count": 144,
   "id": "44e72ea4",
   "metadata": {},
   "outputs": [],
   "source": [
    "import pandas as pd\n",
    "\n",
    "import matplotlib.pyplot as plt\n",
    "%matplotlib inline"
   ]
  },
  {
   "cell_type": "code",
   "execution_count": 154,
   "id": "84f28bdf",
   "metadata": {},
   "outputs": [
    {
     "data": {
      "text/plain": [
       "<AxesSubplot:>"
      ]
     },
     "execution_count": 154,
     "metadata": {},
     "output_type": "execute_result"
    },
    {
     "data": {
      "image/png": "[encoded data removed]",
      "text/plain": [
       "<Figure size 432x288 with 1 Axes>"
      ]
     },
     "metadata": {
      "needs_background": "light"
     },
     "output_type": "display_data"
    }
   ],
   "source": [
    "import pandas as pd\n",
    "count = Counter(my_list)\n",
    "df = pandas.DataFrame.from_dict(count, orient='index')\n",
    "df.plot(kind='bar')\n",
    "\n"
   ]
  },
  {
   "cell_type": "code",
   "execution_count": 158,
   "id": "035f3fe9",
   "metadata": {},
   "outputs": [
    {
     "data": {
      "image/png": "[encoded data removed]",
      "text/plain": [
       "<Figure size 504x252 with 1 Axes>"
      ]
     },
     "metadata": {
      "needs_background": "light"
     },
     "output_type": "display_data"
    }
   ],
   "source": [
    "import numpy as np\n",
    "from matplotlib import pyplot as plt\n",
    "\n",
    "plt.rcParams[\"figure.figsize\"] = [7.00, 3.50]\n",
    "plt.rcParams[\"figure.autolayout\"] = True\n",
    "\n",
    "frequencies = [3, 4, 8, 2, 3]\n",
    "\n",
    "plt.figure()\n",
    "\n",
    "p1 = plt.bar(np.arange(len(frequencies)), frequencies)\n",
    "\n",
    "for rect1 in p1:\n",
    "    height = rect1.get_height()\n",
    "    plt.annotate( \"{}%\".format(height),(rect1.get_x() + rect1.get_width()/2, height+.05),ha=\"center\",va=\"bottom\",fontsize=15)\n",
    "\n",
    "plt.show()"
   ]
  },
  {
   "cell_type": "code",
   "execution_count": 162,
   "id": "45cc3eed",
   "metadata": {},
   "outputs": [
    {
     "ename": "TypeError",
     "evalue": "'list' object cannot be interpreted as an integer",
     "output_type": "error",
     "traceback": [
      "\u001b[1;31m---------------------------------------------------------------------------\u001b[0m",
      "\u001b[1;31mTypeError\u001b[0m                                 Traceback (most recent call last)",
      "Input \u001b[1;32mIn [162]\u001b[0m, in \u001b[0;36m<cell line: 2>\u001b[1;34m()\u001b[0m\n\u001b[0;32m      1\u001b[0m percentage \u001b[38;5;241m=\u001b[39m []\n\u001b[1;32m----> 2\u001b[0m \u001b[38;5;28;01mfor\u001b[39;00m i \u001b[38;5;129;01min\u001b[39;00m \u001b[38;5;28;43mrange\u001b[39;49m\u001b[43m(\u001b[49m\u001b[43mmy_list\u001b[49m\u001b[43m)\u001b[49m:\n\u001b[0;32m      3\u001b[0m     pct \u001b[38;5;241m=\u001b[39m (my_list\u001b[38;5;241m.\u001b[39mRuns[i] \u001b[38;5;241m/\u001b[39m total_runs) \u001b[38;5;241m*\u001b[39m \u001b[38;5;241m100\u001b[39m\n\u001b[0;32m      4\u001b[0m     percentage\u001b[38;5;241m.\u001b[39mappend(\u001b[38;5;28mround\u001b[39m(pct,\u001b[38;5;241m2\u001b[39m))\n",
      "\u001b[1;31mTypeError\u001b[0m: 'list' object cannot be interpreted as an integer"
     ]
    }
   ],
   "source": [
    "percentage = []\n",
    "for i in range(my_list):\n",
    "    pct = (my_list.Runs[i] / total_runs) * 100\n",
    "    percentage.append(round(pct,2))\n",
    "my_list['Percentage'] = percentage"
   ]
  },
  {
   "cell_type": "code",
   "execution_count": null,
   "id": "f04520b2",
   "metadata": {},
   "outputs": [],
   "source": []
  }
 ],
 "metadata": {
  "kernelspec": {
   "display_name": "Python 3 (ipykernel)",
   "language": "python",
   "name": "python3"
  },
  "language_info": {
   "codemirror_mode": {
    "name": "ipython",
    "version": 3
   },
   "file_extension": ".py",
   "mimetype": "text/x-python",
   "name": "python",
   "nbconvert_exporter": "python",
   "pygments_lexer": "ipython3",
   "version": "3.9.12"
  }
 },
 "nbformat": 4,
 "nbformat_minor": 5
}
