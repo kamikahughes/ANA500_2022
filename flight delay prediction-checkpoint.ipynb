{
 "cells": [
  {
   "cell_type": "code",
   "execution_count": 2,
   "id": "90cb9c46",
   "metadata": {},
   "outputs": [],
   "source": [
    "import pandas as pd\n",
    "import numpy as np\n",
    "import matplotlib.pyplot as plt\n",
    "import statsmodels.api as sm"
   ]
  },
  {
   "cell_type": "code",
   "execution_count": 7,
   "id": "23ade438",
   "metadata": {},
   "outputs": [],
   "source": [
    "df = pd.read_csv (r'C:\\Users\\Kamika Hughes\\OneDrive\\ANA500\\flights.csv')\n"
   ]
  },
  {
   "cell_type": "code",
   "execution_count": 6,
   "id": "adf45587",
   "metadata": {},
   "outputs": [
    {
     "data": {
      "text/html": [
       "<div>\n",
       "<style scoped>\n",
       "    .dataframe tbody tr th:only-of-type {\n",
       "        vertical-align: middle;\n",
       "    }\n",
       "\n",
       "    .dataframe tbody tr th {\n",
       "        vertical-align: top;\n",
       "    }\n",
       "\n",
       "    .dataframe thead th {\n",
       "        text-align: right;\n",
       "    }\n",
       "</style>\n",
       "<table border=\"1\" class=\"dataframe\">\n",
       "  <thead>\n",
       "    <tr style=\"text-align: right;\">\n",
       "      <th></th>\n",
       "      <th>Month</th>\n",
       "      <th>DayOfMonth</th>\n",
       "      <th>DayOfWeek</th>\n",
       "      <th>PlaneAge</th>\n",
       "      <th>Distance</th>\n",
       "      <th>AirTime</th>\n",
       "      <th>DepTime</th>\n",
       "      <th>ArrTime</th>\n",
       "      <th>ArrDelay</th>\n",
       "    </tr>\n",
       "  </thead>\n",
       "  <tbody>\n",
       "    <tr>\n",
       "      <th>0</th>\n",
       "      <td>1.0</td>\n",
       "      <td>3.0</td>\n",
       "      <td>4.0</td>\n",
       "      <td>10.0</td>\n",
       "      <td>810.0</td>\n",
       "      <td>116.0</td>\n",
       "      <td>2003.0</td>\n",
       "      <td>2211.0</td>\n",
       "      <td>-14.0</td>\n",
       "    </tr>\n",
       "    <tr>\n",
       "      <th>1</th>\n",
       "      <td>1.0</td>\n",
       "      <td>3.0</td>\n",
       "      <td>4.0</td>\n",
       "      <td>10.0</td>\n",
       "      <td>2283.0</td>\n",
       "      <td>314.0</td>\n",
       "      <td>734.0</td>\n",
       "      <td>958.0</td>\n",
       "      <td>-22.0</td>\n",
       "    </tr>\n",
       "    <tr>\n",
       "      <th>2</th>\n",
       "      <td>1.0</td>\n",
       "      <td>3.0</td>\n",
       "      <td>4.0</td>\n",
       "      <td>10.0</td>\n",
       "      <td>1521.0</td>\n",
       "      <td>175.0</td>\n",
       "      <td>1052.0</td>\n",
       "      <td>1603.0</td>\n",
       "      <td>-17.0</td>\n",
       "    </tr>\n",
       "    <tr>\n",
       "      <th>3</th>\n",
       "      <td>1.0</td>\n",
       "      <td>3.0</td>\n",
       "      <td>4.0</td>\n",
       "      <td>10.0</td>\n",
       "      <td>577.0</td>\n",
       "      <td>79.0</td>\n",
       "      <td>1653.0</td>\n",
       "      <td>1932.0</td>\n",
       "      <td>2.0</td>\n",
       "    </tr>\n",
       "    <tr>\n",
       "      <th>4</th>\n",
       "      <td>1.0</td>\n",
       "      <td>4.0</td>\n",
       "      <td>5.0</td>\n",
       "      <td>10.0</td>\n",
       "      <td>239.0</td>\n",
       "      <td>48.0</td>\n",
       "      <td>1338.0</td>\n",
       "      <td>1440.0</td>\n",
       "      <td>10.0</td>\n",
       "    </tr>\n",
       "  </tbody>\n",
       "</table>\n",
       "</div>"
      ],
      "text/plain": [
       "   Month  DayOfMonth  DayOfWeek  PlaneAge  Distance  AirTime  DepTime  \\\n",
       "0    1.0         3.0        4.0      10.0     810.0    116.0   2003.0   \n",
       "1    1.0         3.0        4.0      10.0    2283.0    314.0    734.0   \n",
       "2    1.0         3.0        4.0      10.0    1521.0    175.0   1052.0   \n",
       "3    1.0         3.0        4.0      10.0     577.0     79.0   1653.0   \n",
       "4    1.0         4.0        5.0      10.0     239.0     48.0   1338.0   \n",
       "\n",
       "   ArrTime  ArrDelay  \n",
       "0   2211.0     -14.0  \n",
       "1    958.0     -22.0  \n",
       "2   1603.0     -17.0  \n",
       "3   1932.0       2.0  \n",
       "4   1440.0      10.0  "
      ]
     },
     "execution_count": 6,
     "metadata": {},
     "output_type": "execute_result"
    }
   ],
   "source": [
    "df.head()"
   ]
  },
  {
   "cell_type": "code",
   "execution_count": 22,
   "id": "bfdd681d",
   "metadata": {
    "scrolled": true
   },
   "outputs": [
    {
     "data": {
      "text/html": [
       "<div>\n",
       "<style scoped>\n",
       "    .dataframe tbody tr th:only-of-type {\n",
       "        vertical-align: middle;\n",
       "    }\n",
       "\n",
       "    .dataframe tbody tr th {\n",
       "        vertical-align: top;\n",
       "    }\n",
       "\n",
       "    .dataframe thead th {\n",
       "        text-align: right;\n",
       "    }\n",
       "</style>\n",
       "<table border=\"1\" class=\"dataframe\">\n",
       "  <thead>\n",
       "    <tr style=\"text-align: right;\">\n",
       "      <th></th>\n",
       "      <th>Month</th>\n",
       "      <th>DayOfMonth</th>\n",
       "      <th>DayOfWeek</th>\n",
       "      <th>PlaneAge</th>\n",
       "      <th>Distance</th>\n",
       "      <th>AirTime</th>\n",
       "      <th>DepTime</th>\n",
       "      <th>ArrTime</th>\n",
       "      <th>ArrDelay</th>\n",
       "    </tr>\n",
       "  </thead>\n",
       "  <tbody>\n",
       "    <tr>\n",
       "      <th>count</th>\n",
       "      <td>5.929413e+06</td>\n",
       "      <td>5.929413e+06</td>\n",
       "      <td>5.929413e+06</td>\n",
       "      <td>5.929413e+06</td>\n",
       "      <td>5.929413e+06</td>\n",
       "      <td>5.929413e+06</td>\n",
       "      <td>5.929413e+06</td>\n",
       "      <td>5.929413e+06</td>\n",
       "      <td>5.929413e+06</td>\n",
       "    </tr>\n",
       "    <tr>\n",
       "      <th>mean</th>\n",
       "      <td>6.287051e+00</td>\n",
       "      <td>1.573227e+01</td>\n",
       "      <td>3.924268e+00</td>\n",
       "      <td>1.053628e+01</td>\n",
       "      <td>7.299092e+02</td>\n",
       "      <td>1.041783e+02</td>\n",
       "      <td>1.334082e+03</td>\n",
       "      <td>1.480515e+03</td>\n",
       "      <td>8.131152e+00</td>\n",
       "    </tr>\n",
       "    <tr>\n",
       "      <th>std</th>\n",
       "      <td>3.369899e+00</td>\n",
       "      <td>8.799917e+00</td>\n",
       "      <td>1.987944e+00</td>\n",
       "      <td>7.323344e+00</td>\n",
       "      <td>5.624922e+02</td>\n",
       "      <td>6.744857e+01</td>\n",
       "      <td>4.791438e+02</td>\n",
       "      <td>5.063437e+02</td>\n",
       "      <td>3.816289e+01</td>\n",
       "    </tr>\n",
       "    <tr>\n",
       "      <th>min</th>\n",
       "      <td>1.000000e+00</td>\n",
       "      <td>1.000000e+00</td>\n",
       "      <td>1.000000e+00</td>\n",
       "      <td>0.000000e+00</td>\n",
       "      <td>1.100000e+01</td>\n",
       "      <td>0.000000e+00</td>\n",
       "      <td>1.000000e+00</td>\n",
       "      <td>1.000000e+00</td>\n",
       "      <td>-5.190000e+02</td>\n",
       "    </tr>\n",
       "    <tr>\n",
       "      <th>25%</th>\n",
       "      <td>3.000000e+00</td>\n",
       "      <td>8.000000e+00</td>\n",
       "      <td>2.000000e+00</td>\n",
       "      <td>5.000000e+00</td>\n",
       "      <td>3.290000e+02</td>\n",
       "      <td>5.600000e+01</td>\n",
       "      <td>9.270000e+02</td>\n",
       "      <td>1.105000e+03</td>\n",
       "      <td>-1.000000e+01</td>\n",
       "    </tr>\n",
       "    <tr>\n",
       "      <th>50%</th>\n",
       "      <td>6.000000e+00</td>\n",
       "      <td>1.600000e+01</td>\n",
       "      <td>4.000000e+00</td>\n",
       "      <td>8.000000e+00</td>\n",
       "      <td>5.840000e+02</td>\n",
       "      <td>8.600000e+01</td>\n",
       "      <td>1.325000e+03</td>\n",
       "      <td>1.511000e+03</td>\n",
       "      <td>-2.000000e+00</td>\n",
       "    </tr>\n",
       "    <tr>\n",
       "      <th>75%</th>\n",
       "      <td>9.000000e+00</td>\n",
       "      <td>2.300000e+01</td>\n",
       "      <td>6.000000e+00</td>\n",
       "      <td>1.500000e+01</td>\n",
       "      <td>9.500000e+02</td>\n",
       "      <td>1.320000e+02</td>\n",
       "      <td>1.729000e+03</td>\n",
       "      <td>1.909000e+03</td>\n",
       "      <td>1.200000e+01</td>\n",
       "    </tr>\n",
       "    <tr>\n",
       "      <th>max</th>\n",
       "      <td>1.200000e+01</td>\n",
       "      <td>3.100000e+01</td>\n",
       "      <td>7.000000e+00</td>\n",
       "      <td>5.200000e+01</td>\n",
       "      <td>4.962000e+03</td>\n",
       "      <td>1.350000e+03</td>\n",
       "      <td>2.400000e+03</td>\n",
       "      <td>2.400000e+03</td>\n",
       "      <td>2.461000e+03</td>\n",
       "    </tr>\n",
       "  </tbody>\n",
       "</table>\n",
       "</div>"
      ],
      "text/plain": [
       "              Month    DayOfMonth     DayOfWeek      PlaneAge      Distance  \\\n",
       "count  5.929413e+06  5.929413e+06  5.929413e+06  5.929413e+06  5.929413e+06   \n",
       "mean   6.287051e+00  1.573227e+01  3.924268e+00  1.053628e+01  7.299092e+02   \n",
       "std    3.369899e+00  8.799917e+00  1.987944e+00  7.323344e+00  5.624922e+02   \n",
       "min    1.000000e+00  1.000000e+00  1.000000e+00  0.000000e+00  1.100000e+01   \n",
       "25%    3.000000e+00  8.000000e+00  2.000000e+00  5.000000e+00  3.290000e+02   \n",
       "50%    6.000000e+00  1.600000e+01  4.000000e+00  8.000000e+00  5.840000e+02   \n",
       "75%    9.000000e+00  2.300000e+01  6.000000e+00  1.500000e+01  9.500000e+02   \n",
       "max    1.200000e+01  3.100000e+01  7.000000e+00  5.200000e+01  4.962000e+03   \n",
       "\n",
       "            AirTime       DepTime       ArrTime      ArrDelay  \n",
       "count  5.929413e+06  5.929413e+06  5.929413e+06  5.929413e+06  \n",
       "mean   1.041783e+02  1.334082e+03  1.480515e+03  8.131152e+00  \n",
       "std    6.744857e+01  4.791438e+02  5.063437e+02  3.816289e+01  \n",
       "min    0.000000e+00  1.000000e+00  1.000000e+00 -5.190000e+02  \n",
       "25%    5.600000e+01  9.270000e+02  1.105000e+03 -1.000000e+01  \n",
       "50%    8.600000e+01  1.325000e+03  1.511000e+03 -2.000000e+00  \n",
       "75%    1.320000e+02  1.729000e+03  1.909000e+03  1.200000e+01  \n",
       "max    1.350000e+03  2.400000e+03  2.400000e+03  2.461000e+03  "
      ]
     },
     "execution_count": 22,
     "metadata": {},
     "output_type": "execute_result"
    }
   ],
   "source": [
    "df.describe()"
   ]
  },
  {
   "cell_type": "code",
   "execution_count": 8,
   "id": "f94b4ccc",
   "metadata": {},
   "outputs": [
    {
     "name": "stdout",
     "output_type": "stream",
     "text": [
      "<class 'pandas.core.frame.DataFrame'>\n",
      "RangeIndex: 5929413 entries, 0 to 5929412\n",
      "Data columns (total 9 columns):\n",
      " #   Column      Dtype  \n",
      "---  ------      -----  \n",
      " 0   Month       float64\n",
      " 1   DayOfMonth  float64\n",
      " 2   DayOfWeek   float64\n",
      " 3   PlaneAge    float64\n",
      " 4   Distance    float64\n",
      " 5   AirTime     float64\n",
      " 6   DepTime     float64\n",
      " 7   ArrTime     float64\n",
      " 8   ArrDelay    float64\n",
      "dtypes: float64(9)\n",
      "memory usage: 407.1 MB\n"
     ]
    }
   ],
   "source": [
    "df.info()"
   ]
  },
  {
   "cell_type": "code",
   "execution_count": 43,
   "id": "7ea2f587",
   "metadata": {},
   "outputs": [
    {
     "data": {
      "text/plain": [
       "{'_is_copy': None,\n",
       " '_mgr': BlockManager\n",
       " Items: Index(['Month', 'DayOfMonth', 'DayOfWeek', 'PlaneAge', 'Distance', 'AirTime',\n",
       "        'DepTime', 'ArrTime', 'ArrDelay'],\n",
       "       dtype='object')\n",
       " Axis 1: RangeIndex(start=0, stop=5929413, step=1)\n",
       " NumericBlock: slice(0, 9, 1), 9 x 5929413, dtype: float64,\n",
       " '_item_cache': {'Month': 0           1.0\n",
       "  1           1.0\n",
       "  2           1.0\n",
       "  3           1.0\n",
       "  4           1.0\n",
       "             ... \n",
       "  5929408    12.0\n",
       "  5929409    12.0\n",
       "  5929410    12.0\n",
       "  5929411     4.0\n",
       "  5929412     4.0\n",
       "  Name: Month, Length: 5929413, dtype: float64,\n",
       "  'DayOfMonth': 0           3.0\n",
       "  1           3.0\n",
       "  2           3.0\n",
       "  3           3.0\n",
       "  4           4.0\n",
       "             ... \n",
       "  5929408    31.0\n",
       "  5929409    31.0\n",
       "  5929410    31.0\n",
       "  5929411    21.0\n",
       "  5929412    21.0\n",
       "  Name: DayOfMonth, Length: 5929413, dtype: float64,\n",
       "  'DayOfWeek': 0          4.0\n",
       "  1          4.0\n",
       "  2          4.0\n",
       "  3          4.0\n",
       "  4          5.0\n",
       "            ... \n",
       "  5929408    3.0\n",
       "  5929409    3.0\n",
       "  5929410    3.0\n",
       "  5929411    1.0\n",
       "  5929412    1.0\n",
       "  Name: DayOfWeek, Length: 5929413, dtype: float64,\n",
       "  'PlaneAge': 0          10.0\n",
       "  1          10.0\n",
       "  2          10.0\n",
       "  3          10.0\n",
       "  4          10.0\n",
       "             ... \n",
       "  5929408     0.0\n",
       "  5929409     0.0\n",
       "  5929410     0.0\n",
       "  5929411     6.0\n",
       "  5929412     6.0\n",
       "  Name: PlaneAge, Length: 5929413, dtype: float64,\n",
       "  'Distance': 0           810.0\n",
       "  1          2283.0\n",
       "  2          1521.0\n",
       "  3           577.0\n",
       "  4           239.0\n",
       "              ...  \n",
       "  5929408    1237.0\n",
       "  5929409    1102.0\n",
       "  5929410    1249.0\n",
       "  5929411     938.0\n",
       "  5929412     938.0\n",
       "  Name: Distance, Length: 5929413, dtype: float64,\n",
       "  'AirTime': 0          116.0\n",
       "  1          314.0\n",
       "  2          175.0\n",
       "  3           79.0\n",
       "  4           48.0\n",
       "             ...  \n",
       "  5929408    175.0\n",
       "  5929409    171.0\n",
       "  5929410    156.0\n",
       "  5929411    128.0\n",
       "  5929412    124.0\n",
       "  Name: AirTime, Length: 5929413, dtype: float64,\n",
       "  'DepTime': 0          2003.0\n",
       "  1           734.0\n",
       "  2          1052.0\n",
       "  3          1653.0\n",
       "  4          1338.0\n",
       "              ...  \n",
       "  5929408    1715.0\n",
       "  5929409     901.0\n",
       "  5929410    1321.0\n",
       "  5929411    1232.0\n",
       "  5929412     832.0\n",
       "  Name: DepTime, Length: 5929413, dtype: float64,\n",
       "  'ArrTime': 0          2211.0\n",
       "  1           958.0\n",
       "  2          1603.0\n",
       "  3          1932.0\n",
       "  4          1440.0\n",
       "              ...  \n",
       "  5929408    2140.0\n",
       "  5929409    1240.0\n",
       "  5929410    1621.0\n",
       "  5929411    1503.0\n",
       "  5929412    1130.0\n",
       "  Name: ArrTime, Length: 5929413, dtype: float64,\n",
       "  'ArrDelay': 0         -14.0\n",
       "  1         -22.0\n",
       "  2         -17.0\n",
       "  3           2.0\n",
       "  4          10.0\n",
       "             ... \n",
       "  5929408    85.0\n",
       "  5929409    18.0\n",
       "  5929410    15.0\n",
       "  5929411    -4.0\n",
       "  5929412    19.0\n",
       "  Name: ArrDelay, Length: 5929413, dtype: float64},\n",
       " '_attrs': {},\n",
       " '_flags': <Flags(allows_duplicate_labels=True)>}"
      ]
     },
     "execution_count": 43,
     "metadata": {},
     "output_type": "execute_result"
    }
   ],
   "source": [
    "df.__dict__ "
   ]
  },
  {
   "cell_type": "code",
   "execution_count": 38,
   "id": "2f8fb98d",
   "metadata": {
    "scrolled": false
   },
   "outputs": [
    {
     "data": {
      "image/png": "[encoded data removed]",
      "text/plain": [
       "<Figure size 864x792 with 2 Axes>"
      ]
     },
     "metadata": {
      "needs_background": "light"
     },
     "output_type": "display_data"
    }
   ],
   "source": [
    "fig, ax = plt.subplots(2,figsize=(12, 11))\n",
    "ax[0].scatter(x = df['Distance'], y = df['ArrDelay'])\n",
    "ax[0].set_xlabel(\"Distance\")\n",
    "ax[0].set_ylabel(\"Delay\")\n",
    "ax[0].set_title(\"Delay by Distance\")\n",
    "ax[0].tick_params(axis='x', labelrotation = 90)\n",
    "\n",
    "ax[1].scatter(x = df['AirTime'], y = df['ArrDelay'])\n",
    "ax[1].set_xlabel(\"Air Time\")\n",
    "ax[1].set_ylabel(\"Delay\")\n",
    "ax[1].set_title(\"Delay by Air Time\")\n",
    "ax[1].tick_params(axis='x', labelrotation = 90)"
   ]
  },
  {
   "cell_type": "code",
   "execution_count": 39,
   "id": "989d4c5b",
   "metadata": {
    "scrolled": false
   },
   "outputs": [
    {
     "data": {
      "image/png": "[encoded data removed]",
      "text/plain": [
       "<Figure size 864x792 with 2 Axes>"
      ]
     },
     "metadata": {
      "needs_background": "light"
     },
     "output_type": "display_data"
    }
   ],
   "source": [
    "fig, ax = plt.subplots(2,figsize=(12, 11))\n",
    "ax[0].scatter(x = df['DepTime'], y = df['ArrDelay'])\n",
    "ax[0].set_xlabel(\"Departure Time\")\n",
    "ax[0].set_ylabel(\"Delay\")\n",
    "ax[0].set_title(\"Delay by Departure\")\n",
    "ax[0].tick_params(axis='x', labelrotation = 90)\n",
    "\n",
    "ax[1].scatter(x = df['ArrTime'], y = df['ArrDelay'])\n",
    "ax[1].set_xlabel(\"Arrival Time\")\n",
    "ax[1].set_ylabel(\"Delay\")\n",
    "ax[1].set_title(\"Delay by Arrival\")\n",
    "ax[1].tick_params(axis='x', labelrotation = 90)"
   ]
  },
  {
   "cell_type": "code",
   "execution_count": 45,
   "id": "07781e2f",
   "metadata": {
    "scrolled": false
   },
   "outputs": [
    {
     "data": {
      "image/png": "[encoded data removed]",
      "text/plain": [
       "<Figure size 864x792 with 2 Axes>"
      ]
     },
     "metadata": {
      "needs_background": "light"
     },
     "output_type": "display_data"
    }
   ],
   "source": [
    "fig, ax = plt.subplots(2,figsize=(12, 11))\n",
    "ax[0].scatter(x = df['PlaneAge'], y = df['ArrDelay'])\n",
    "ax[0].set_xlabel(\"Plane Age\")\n",
    "ax[0].set_ylabel(\"Delay\")\n",
    "ax[0].set_title(\"Delay by Plane Age\")\n",
    "ax[0].tick_params(axis='x', labelrotation = 90)\n",
    "\n",
    "ax[1].scatter(x = df['DayOfWeek'], y = df['ArrDelay'])\n",
    "ax[1].set_xlabel(\"Day Of Week\")\n",
    "ax[1].set_ylabel(\"Delay\")\n",
    "ax[1].set_title(\"Delay by Day of Week\")\n",
    "ax[1].tick_params(axis='x', labelrotation = 90)"
   ]
  },
  {
   "cell_type": "code",
   "execution_count": 46,
   "id": "54fc8ecd",
   "metadata": {},
   "outputs": [
    {
     "data": {
      "image/png": "[encoded data removed]",
      "text/plain": [
       "<Figure size 864x792 with 2 Axes>"
      ]
     },
     "metadata": {
      "needs_background": "light"
     },
     "output_type": "display_data"
    }
   ],
   "source": [
    "fig, ax = plt.subplots(2,figsize=(12, 11))\n",
    "ax[0].scatter(x = df['DayOfMonth'], y = df['ArrDelay'])\n",
    "ax[0].set_xlabel(\"DayOfMonth\")\n",
    "ax[0].set_ylabel(\"Delay\")\n",
    "ax[0].set_title(\"Delay by Day Of Month\")\n",
    "ax[0].tick_params(axis='x', labelrotation = 90)\n",
    "\n",
    "ax[1].scatter(x = df['Month'], y = df['ArrDelay'])\n",
    "ax[1].set_xlabel(\"Month\")\n",
    "ax[1].set_ylabel(\"Delay\")\n",
    "ax[1].set_title(\"Delay by Month\")\n",
    "ax[1].tick_params(axis='x', labelrotation = 90)"
   ]
  },
  {
   "cell_type": "code",
   "execution_count": 32,
   "id": "f7615f20",
   "metadata": {},
   "outputs": [],
   "source": [
    "Y = df['ArrDelay']\n",
    "X = df[['Month', 'DayOfMonth', 'DayOfWeek','PlaneAge', 'Distance', 'AirTime', 'DepTime', 'ArrTime']]\n",
    "X = sm.add_constant(X)"
   ]
  },
  {
   "cell_type": "code",
   "execution_count": 11,
   "id": "fd7ccda6",
   "metadata": {},
   "outputs": [
    {
     "data": {
      "text/html": [
       "<table class=\"simpletable\">\n",
       "<caption>OLS Regression Results</caption>\n",
       "<tr>\n",
       "  <th>Dep. Variable:</th>        <td>ArrDelay</td>     <th>  R-squared:         </th>  <td>   1.000</td> \n",
       "</tr>\n",
       "<tr>\n",
       "  <th>Model:</th>                   <td>OLS</td>       <th>  Adj. R-squared:    </th>  <td>   1.000</td> \n",
       "</tr>\n",
       "<tr>\n",
       "  <th>Method:</th>             <td>Least Squares</td>  <th>  F-statistic:       </th>  <td>8.129e+33</td>\n",
       "</tr>\n",
       "<tr>\n",
       "  <th>Date:</th>             <td>Sat, 15 Oct 2022</td> <th>  Prob (F-statistic):</th>   <td>  0.00</td>  \n",
       "</tr>\n",
       "<tr>\n",
       "  <th>Time:</th>                 <td>22:05:08</td>     <th>  Log-Likelihood:    </th> <td>1.6176e+08</td>\n",
       "</tr>\n",
       "<tr>\n",
       "  <th>No. Observations:</th>      <td>5929413</td>     <th>  AIC:               </th> <td>-3.235e+08</td>\n",
       "</tr>\n",
       "<tr>\n",
       "  <th>Df Residuals:</th>          <td>5929403</td>     <th>  BIC:               </th> <td>-3.235e+08</td>\n",
       "</tr>\n",
       "<tr>\n",
       "  <th>Df Model:</th>              <td>     9</td>      <th>                     </th>      <td> </td>    \n",
       "</tr>\n",
       "<tr>\n",
       "  <th>Covariance Type:</th>      <td>nonrobust</td>    <th>                     </th>      <td> </td>    \n",
       "</tr>\n",
       "</table>\n",
       "<table class=\"simpletable\">\n",
       "<tr>\n",
       "       <td></td>         <th>coef</th>     <th>std err</th>      <th>t</th>      <th>P>|t|</th>  <th>[0.025</th>    <th>0.975]</th>  \n",
       "</tr>\n",
       "<tr>\n",
       "  <th>const</th>      <td> 2.305e-13</td> <td> 7.39e-16</td> <td>  311.805</td> <td> 0.000</td> <td> 2.29e-13</td> <td> 2.32e-13</td>\n",
       "</tr>\n",
       "<tr>\n",
       "  <th>Month</th>      <td>-2.547e-14</td> <td> 4.19e-17</td> <td> -607.564</td> <td> 0.000</td> <td>-2.56e-14</td> <td>-2.54e-14</td>\n",
       "</tr>\n",
       "<tr>\n",
       "  <th>DayOfMonth</th> <td> 1.231e-15</td> <td>  1.6e-17</td> <td>   76.805</td> <td> 0.000</td> <td>  1.2e-15</td> <td> 1.26e-15</td>\n",
       "</tr>\n",
       "<tr>\n",
       "  <th>DayOfWeek</th>  <td> -7.98e-15</td> <td>  7.1e-17</td> <td> -112.392</td> <td> 0.000</td> <td>-8.12e-15</td> <td>-7.84e-15</td>\n",
       "</tr>\n",
       "<tr>\n",
       "  <th>PlaneAge</th>   <td>-5.551e-16</td> <td> 1.93e-17</td> <td>  -28.798</td> <td> 0.000</td> <td>-5.93e-16</td> <td>-5.17e-16</td>\n",
       "</tr>\n",
       "<tr>\n",
       "  <th>Distance</th>   <td> 2.679e-16</td> <td> 1.38e-18</td> <td>  193.720</td> <td> 0.000</td> <td> 2.65e-16</td> <td> 2.71e-16</td>\n",
       "</tr>\n",
       "<tr>\n",
       "  <th>AirTime</th>    <td>-2.273e-15</td> <td> 1.15e-17</td> <td> -196.848</td> <td> 0.000</td> <td> -2.3e-15</td> <td>-2.25e-15</td>\n",
       "</tr>\n",
       "<tr>\n",
       "  <th>DepTime</th>    <td> 1.237e-16</td> <td> 4.29e-19</td> <td>  288.220</td> <td> 0.000</td> <td> 1.23e-16</td> <td> 1.25e-16</td>\n",
       "</tr>\n",
       "<tr>\n",
       "  <th>ArrTime</th>    <td> 7.383e-17</td> <td>    4e-19</td> <td>  184.811</td> <td> 0.000</td> <td> 7.31e-17</td> <td> 7.46e-17</td>\n",
       "</tr>\n",
       "<tr>\n",
       "  <th>ArrDelay</th>   <td>    1.0000</td> <td> 3.83e-18</td> <td> 2.61e+17</td> <td> 0.000</td> <td>    1.000</td> <td>    1.000</td>\n",
       "</tr>\n",
       "</table>\n",
       "<table class=\"simpletable\">\n",
       "<tr>\n",
       "  <th>Omnibus:</th>       <td>1230918.201</td> <th>  Durbin-Watson:     </th>  <td>   0.272</td>  \n",
       "</tr>\n",
       "<tr>\n",
       "  <th>Prob(Omnibus):</th>   <td> 0.000</td>    <th>  Jarque-Bera (JB):  </th> <td>6556542.046</td>\n",
       "</tr>\n",
       "<tr>\n",
       "  <th>Skew:</th>            <td>-0.903</td>    <th>  Prob(JB):          </th>  <td>    0.00</td>  \n",
       "</tr>\n",
       "<tr>\n",
       "  <th>Kurtosis:</th>        <td> 7.825</td>    <th>  Cond. No.          </th>  <td>1.16e+04</td>  \n",
       "</tr>\n",
       "</table><br/><br/>Notes:<br/>[1] Standard Errors assume that the covariance matrix of the errors is correctly specified.<br/>[2] The condition number is large, 1.16e+04. This might indicate that there are<br/>strong multicollinearity or other numerical problems."
      ],
      "text/plain": [
       "<class 'statsmodels.iolib.summary.Summary'>\n",
       "\"\"\"\n",
       "                            OLS Regression Results                            \n",
       "==============================================================================\n",
       "Dep. Variable:               ArrDelay   R-squared:                       1.000\n",
       "Model:                            OLS   Adj. R-squared:                  1.000\n",
       "Method:                 Least Squares   F-statistic:                 8.129e+33\n",
       "Date:                Sat, 15 Oct 2022   Prob (F-statistic):               0.00\n",
       "Time:                        22:05:08   Log-Likelihood:             1.6176e+08\n",
       "No. Observations:             5929413   AIC:                        -3.235e+08\n",
       "Df Residuals:                 5929403   BIC:                        -3.235e+08\n",
       "Df Model:                           9                                         \n",
       "Covariance Type:            nonrobust                                         \n",
       "==============================================================================\n",
       "                 coef    std err          t      P>|t|      [0.025      0.975]\n",
       "------------------------------------------------------------------------------\n",
       "const       2.305e-13   7.39e-16    311.805      0.000    2.29e-13    2.32e-13\n",
       "Month      -2.547e-14   4.19e-17   -607.564      0.000   -2.56e-14   -2.54e-14\n",
       "DayOfMonth  1.231e-15    1.6e-17     76.805      0.000     1.2e-15    1.26e-15\n",
       "DayOfWeek   -7.98e-15    7.1e-17   -112.392      0.000   -8.12e-15   -7.84e-15\n",
       "PlaneAge   -5.551e-16   1.93e-17    -28.798      0.000   -5.93e-16   -5.17e-16\n",
       "Distance    2.679e-16   1.38e-18    193.720      0.000    2.65e-16    2.71e-16\n",
       "AirTime    -2.273e-15   1.15e-17   -196.848      0.000    -2.3e-15   -2.25e-15\n",
       "DepTime     1.237e-16   4.29e-19    288.220      0.000    1.23e-16    1.25e-16\n",
       "ArrTime     7.383e-17      4e-19    184.811      0.000    7.31e-17    7.46e-17\n",
       "ArrDelay       1.0000   3.83e-18   2.61e+17      0.000       1.000       1.000\n",
       "==============================================================================\n",
       "Omnibus:                  1230918.201   Durbin-Watson:                   0.272\n",
       "Prob(Omnibus):                  0.000   Jarque-Bera (JB):          6556542.046\n",
       "Skew:                          -0.903   Prob(JB):                         0.00\n",
       "Kurtosis:                       7.825   Cond. No.                     1.16e+04\n",
       "==============================================================================\n",
       "\n",
       "Notes:\n",
       "[1] Standard Errors assume that the covariance matrix of the errors is correctly specified.\n",
       "[2] The condition number is large, 1.16e+04. This might indicate that there are\n",
       "strong multicollinearity or other numerical problems.\n",
       "\"\"\""
      ]
     },
     "execution_count": 11,
     "metadata": {},
     "output_type": "execute_result"
    }
   ],
   "source": [
    "ks = sm.OLS(Y, X)\n",
    "ks_res =ks.fit()\n",
    "ks_res.summary()"
   ]
  },
  {
   "cell_type": "code",
   "execution_count": null,
   "id": "93757234",
   "metadata": {},
   "outputs": [],
   "source": [
    "import seaborn as sns"
   ]
  },
  {
   "cell_type": "code",
   "execution_count": 14,
   "id": "af7663d0",
   "metadata": {},
   "outputs": [
    {
     "data": {
      "text/html": [
       "<div>\n",
       "<style scoped>\n",
       "    .dataframe tbody tr th:only-of-type {\n",
       "        vertical-align: middle;\n",
       "    }\n",
       "\n",
       "    .dataframe tbody tr th {\n",
       "        vertical-align: top;\n",
       "    }\n",
       "\n",
       "    .dataframe thead th {\n",
       "        text-align: right;\n",
       "    }\n",
       "</style>\n",
       "<table border=\"1\" class=\"dataframe\">\n",
       "  <thead>\n",
       "    <tr style=\"text-align: right;\">\n",
       "      <th></th>\n",
       "      <th>Month</th>\n",
       "      <th>DayOfMonth</th>\n",
       "      <th>DayOfWeek</th>\n",
       "      <th>PlaneAge</th>\n",
       "      <th>Distance</th>\n",
       "      <th>AirTime</th>\n",
       "      <th>DepTime</th>\n",
       "      <th>ArrTime</th>\n",
       "      <th>ArrDelay</th>\n",
       "    </tr>\n",
       "  </thead>\n",
       "  <tbody>\n",
       "    <tr>\n",
       "      <th>Month</th>\n",
       "      <td>1.00</td>\n",
       "      <td>-0.0</td>\n",
       "      <td>-0.00</td>\n",
       "      <td>-0.01</td>\n",
       "      <td>0.00</td>\n",
       "      <td>-0.00</td>\n",
       "      <td>-0.01</td>\n",
       "      <td>0.00</td>\n",
       "      <td>-0.04</td>\n",
       "    </tr>\n",
       "    <tr>\n",
       "      <th>DayOfMonth</th>\n",
       "      <td>-0.00</td>\n",
       "      <td>1.0</td>\n",
       "      <td>0.00</td>\n",
       "      <td>-0.00</td>\n",
       "      <td>0.00</td>\n",
       "      <td>0.00</td>\n",
       "      <td>-0.00</td>\n",
       "      <td>-0.00</td>\n",
       "      <td>0.00</td>\n",
       "    </tr>\n",
       "    <tr>\n",
       "      <th>DayOfWeek</th>\n",
       "      <td>-0.00</td>\n",
       "      <td>0.0</td>\n",
       "      <td>1.00</td>\n",
       "      <td>-0.00</td>\n",
       "      <td>0.02</td>\n",
       "      <td>0.01</td>\n",
       "      <td>0.01</td>\n",
       "      <td>0.00</td>\n",
       "      <td>0.01</td>\n",
       "    </tr>\n",
       "    <tr>\n",
       "      <th>PlaneAge</th>\n",
       "      <td>-0.01</td>\n",
       "      <td>-0.0</td>\n",
       "      <td>-0.00</td>\n",
       "      <td>1.00</td>\n",
       "      <td>-0.01</td>\n",
       "      <td>-0.01</td>\n",
       "      <td>0.00</td>\n",
       "      <td>0.01</td>\n",
       "      <td>0.01</td>\n",
       "    </tr>\n",
       "    <tr>\n",
       "      <th>Distance</th>\n",
       "      <td>0.00</td>\n",
       "      <td>0.0</td>\n",
       "      <td>0.02</td>\n",
       "      <td>-0.01</td>\n",
       "      <td>1.00</td>\n",
       "      <td>0.98</td>\n",
       "      <td>-0.02</td>\n",
       "      <td>0.03</td>\n",
       "      <td>-0.00</td>\n",
       "    </tr>\n",
       "    <tr>\n",
       "      <th>AirTime</th>\n",
       "      <td>-0.00</td>\n",
       "      <td>0.0</td>\n",
       "      <td>0.01</td>\n",
       "      <td>-0.01</td>\n",
       "      <td>0.98</td>\n",
       "      <td>1.00</td>\n",
       "      <td>-0.02</td>\n",
       "      <td>0.03</td>\n",
       "      <td>0.03</td>\n",
       "    </tr>\n",
       "    <tr>\n",
       "      <th>DepTime</th>\n",
       "      <td>-0.01</td>\n",
       "      <td>-0.0</td>\n",
       "      <td>0.01</td>\n",
       "      <td>0.00</td>\n",
       "      <td>-0.02</td>\n",
       "      <td>-0.02</td>\n",
       "      <td>1.00</td>\n",
       "      <td>0.71</td>\n",
       "      <td>0.18</td>\n",
       "    </tr>\n",
       "    <tr>\n",
       "      <th>ArrTime</th>\n",
       "      <td>0.00</td>\n",
       "      <td>-0.0</td>\n",
       "      <td>0.00</td>\n",
       "      <td>0.01</td>\n",
       "      <td>0.03</td>\n",
       "      <td>0.03</td>\n",
       "      <td>0.71</td>\n",
       "      <td>1.00</td>\n",
       "      <td>0.07</td>\n",
       "    </tr>\n",
       "    <tr>\n",
       "      <th>ArrDelay</th>\n",
       "      <td>-0.04</td>\n",
       "      <td>0.0</td>\n",
       "      <td>0.01</td>\n",
       "      <td>0.01</td>\n",
       "      <td>-0.00</td>\n",
       "      <td>0.03</td>\n",
       "      <td>0.18</td>\n",
       "      <td>0.07</td>\n",
       "      <td>1.00</td>\n",
       "    </tr>\n",
       "  </tbody>\n",
       "</table>\n",
       "</div>"
      ],
      "text/plain": [
       "            Month  DayOfMonth  DayOfWeek  PlaneAge  Distance  AirTime  \\\n",
       "Month        1.00        -0.0      -0.00     -0.01      0.00    -0.00   \n",
       "DayOfMonth  -0.00         1.0       0.00     -0.00      0.00     0.00   \n",
       "DayOfWeek   -0.00         0.0       1.00     -0.00      0.02     0.01   \n",
       "PlaneAge    -0.01        -0.0      -0.00      1.00     -0.01    -0.01   \n",
       "Distance     0.00         0.0       0.02     -0.01      1.00     0.98   \n",
       "AirTime     -0.00         0.0       0.01     -0.01      0.98     1.00   \n",
       "DepTime     -0.01        -0.0       0.01      0.00     -0.02    -0.02   \n",
       "ArrTime      0.00        -0.0       0.00      0.01      0.03     0.03   \n",
       "ArrDelay    -0.04         0.0       0.01      0.01     -0.00     0.03   \n",
       "\n",
       "            DepTime  ArrTime  ArrDelay  \n",
       "Month         -0.01     0.00     -0.04  \n",
       "DayOfMonth    -0.00    -0.00      0.00  \n",
       "DayOfWeek      0.01     0.00      0.01  \n",
       "PlaneAge       0.00     0.01      0.01  \n",
       "Distance      -0.02     0.03     -0.00  \n",
       "AirTime       -0.02     0.03      0.03  \n",
       "DepTime        1.00     0.71      0.18  \n",
       "ArrTime        0.71     1.00      0.07  \n",
       "ArrDelay       0.18     0.07      1.00  "
      ]
     },
     "execution_count": 14,
     "metadata": {},
     "output_type": "execute_result"
    }
   ],
   "source": [
    "round(df.corr(),2)"
   ]
  },
  {
   "cell_type": "code",
   "execution_count": 47,
   "id": "02ee07f0",
   "metadata": {},
   "outputs": [],
   "source": [
    "import pandas as pd\n",
    "from sklearn import linear_model\n",
    "import statsmodels.api as sm"
   ]
  },
  {
   "cell_type": "code",
   "execution_count": 48,
   "id": "dff17e98",
   "metadata": {},
   "outputs": [
    {
     "name": "stdout",
     "output_type": "stream",
     "text": [
      "Intercept: \n",
      " -16.0526862744798\n",
      "Coefficients: \n",
      " [-0.35210343  0.00596238  0.23975659  0.05507566 -0.06021442  0.51529227\n",
      "  0.02264387 -0.01023793]\n",
      "                            OLS Regression Results                            \n",
      "==============================================================================\n",
      "Dep. Variable:               ArrDelay   R-squared:                       0.070\n",
      "Model:                            OLS   Adj. R-squared:                  0.070\n",
      "Method:                 Least Squares   F-statistic:                 5.590e+04\n",
      "Date:                Sat, 15 Oct 2022   Prob (F-statistic):               0.00\n",
      "Time:                        23:09:29   Log-Likelihood:            -2.9792e+07\n",
      "No. Observations:             5929413   AIC:                         5.958e+07\n",
      "Df Residuals:                 5929404   BIC:                         5.958e+07\n",
      "Df Model:                           8                                         \n",
      "Covariance Type:            nonrobust                                         \n",
      "==============================================================================\n",
      "                 coef    std err          t      P>|t|      [0.025      0.975]\n",
      "------------------------------------------------------------------------------\n",
      "const        -16.0527      0.079   -203.449      0.000     -16.207     -15.898\n",
      "Month         -0.3521      0.004    -78.445      0.000      -0.361      -0.343\n",
      "DayOfMonth     0.0060      0.002      3.472      0.001       0.003       0.009\n",
      "DayOfWeek      0.2398      0.008     31.529      0.000       0.225       0.255\n",
      "PlaneAge       0.0551      0.002     26.676      0.000       0.051       0.059\n",
      "Distance      -0.0602      0.000   -412.267      0.000      -0.061      -0.060\n",
      "AirTime        0.5153      0.001    422.784      0.000       0.513       0.518\n",
      "DepTime        0.0226    4.5e-05    502.923      0.000       0.023       0.023\n",
      "ArrTime       -0.0102   4.26e-05   -240.403      0.000      -0.010      -0.010\n",
      "==============================================================================\n",
      "Omnibus:                  6500420.624   Durbin-Watson:                   1.578\n",
      "Prob(Omnibus):                  0.000   Jarque-Bera (JB):       1334449947.961\n",
      "Skew:                           5.297   Prob(JB):                         0.00\n",
      "Kurtosis:                      75.726   Cond. No.                     1.16e+04\n",
      "==============================================================================\n",
      "\n",
      "Notes:\n",
      "[1] Standard Errors assume that the covariance matrix of the errors is correctly specified.\n",
      "[2] The condition number is large, 1.16e+04. This might indicate that there are\n",
      "strong multicollinearity or other numerical problems.\n"
     ]
    }
   ],
   "source": [
    "x = df[['Month', 'DayOfMonth', 'DayOfWeek','PlaneAge', 'Distance', 'AirTime', 'DepTime', 'ArrTime']]\n",
    "y = df['ArrDelay']\n",
    " \n",
    "# with sklearn\n",
    "regr = linear_model.LinearRegression()\n",
    "regr.fit(x, y)\n",
    "\n",
    "print('Intercept: \\n', regr.intercept_)\n",
    "print('Coefficients: \\n', regr.coef_)\n",
    "\n",
    "# with statsmodels\n",
    "x = sm.add_constant(x) # adding a constant\n",
    " \n",
    "model = sm.OLS(y, x).fit()\n",
    "predictions = model.predict(x) \n",
    " \n",
    "print_model = model.summary()\n",
    "print(print_model)"
   ]
  },
  {
   "cell_type": "code",
   "execution_count": 61,
   "id": "90977e95",
   "metadata": {},
   "outputs": [],
   "source": [
    "from sklearn.model_selection import train_test_split\n",
    "from sklearn.linear_model import LinearRegression\n",
    "from sklearn.metrics import r2_score"
   ]
  },
  {
   "cell_type": "code",
   "execution_count": 56,
   "id": "3b63aa57",
   "metadata": {},
   "outputs": [],
   "source": [
    "x_train,x_test,y_train,y_test=train_test_split(x,y,test_size=0.2,random_state=0)"
   ]
  },
  {
   "cell_type": "code",
   "execution_count": 57,
   "id": "bdd5c669",
   "metadata": {},
   "outputs": [
    {
     "name": "stdout",
     "output_type": "stream",
     "text": [
      "X_train: (4743530, 9)\n",
      "X_test: (1185883, 9)\n",
      "Y_train: (4743530,)\n",
      "Y_test: (1185883,)\n"
     ]
    }
   ],
   "source": [
    "print(\"X_train:\",x_train.shape)\n",
    "print(\"X_test:\",x_test.shape)\n",
    "print(\"Y_train:\",y_train.shape)\n",
    "print(\"Y_test:\",y_test.shape)"
   ]
  },
  {
   "cell_type": "code",
   "execution_count": 58,
   "id": "dffc541e",
   "metadata": {},
   "outputs": [
    {
     "data": {
      "text/plain": [
       "LinearRegression()"
      ]
     },
     "execution_count": 58,
     "metadata": {},
     "output_type": "execute_result"
    }
   ],
   "source": [
    "linreg=LinearRegression()\n",
    "linreg.fit(x_train,y_train)"
   ]
  },
  {
   "cell_type": "code",
   "execution_count": 59,
   "id": "4af4211d",
   "metadata": {},
   "outputs": [
    {
     "data": {
      "text/plain": [
       "array([-1.49862362,  3.46617014, 20.10453245, ..., 14.14578439,\n",
       "        5.01056015,  8.02595155])"
      ]
     },
     "execution_count": 59,
     "metadata": {},
     "output_type": "execute_result"
    }
   ],
   "source": [
    "y_pred=linreg.predict(x_test)\n",
    "y_pred"
   ]
  },
  {
   "cell_type": "code",
   "execution_count": 62,
   "id": "7db64ae3",
   "metadata": {},
   "outputs": [
    {
     "name": "stdout",
     "output_type": "stream",
     "text": [
      " Accuracy of the model is 7.05\n"
     ]
    }
   ],
   "source": [
    "Accuracy=r2_score(y_test,y_pred)*100\n",
    "print(\" Accuracy of the model is %.2f\" %Accuracy)\n"
   ]
  },
  {
   "cell_type": "code",
   "execution_count": 63,
   "id": "8c75e4d8",
   "metadata": {},
   "outputs": [
    {
     "data": {
      "image/png": "[encoded data removed]",
      "text/plain": [
       "<Figure size 432x288 with 1 Axes>"
      ]
     },
     "metadata": {
      "needs_background": "light"
     },
     "output_type": "display_data"
    }
   ],
   "source": [
    "plt.scatter(y_test,y_pred);\n",
    "plt.xlabel('Actual');\n",
    "plt.ylabel('Predicted');"
   ]
  },
  {
   "cell_type": "code",
   "execution_count": 64,
   "id": "711409f1",
   "metadata": {},
   "outputs": [
    {
     "data": {
      "image/png": "[encoded data removed]",
      "text/plain": [
       "<Figure size 432x288 with 1 Axes>"
      ]
     },
     "metadata": {
      "needs_background": "light"
     },
     "output_type": "display_data"
    }
   ],
   "source": [
    "sns.regplot(x=y_test,y=y_pred,ci=None,color ='red');"
   ]
  },
  {
   "cell_type": "code",
   "execution_count": 65,
   "id": "3ade7aa6",
   "metadata": {},
   "outputs": [],
   "source": [
    "pred_df=pd.DataFrame({'Actual Value':y_test,'Predicted Value':y_pred,'Difference':y_test-y_pred})\n"
   ]
  },
  {
   "cell_type": "code",
   "execution_count": 66,
   "id": "97c20491",
   "metadata": {},
   "outputs": [
    {
     "data": {
      "text/html": [
       "<div>\n",
       "<style scoped>\n",
       "    .dataframe tbody tr th:only-of-type {\n",
       "        vertical-align: middle;\n",
       "    }\n",
       "\n",
       "    .dataframe tbody tr th {\n",
       "        vertical-align: top;\n",
       "    }\n",
       "\n",
       "    .dataframe thead th {\n",
       "        text-align: right;\n",
       "    }\n",
       "</style>\n",
       "<table border=\"1\" class=\"dataframe\">\n",
       "  <thead>\n",
       "    <tr style=\"text-align: right;\">\n",
       "      <th></th>\n",
       "      <th>Actual Value</th>\n",
       "      <th>Predicted Value</th>\n",
       "      <th>Difference</th>\n",
       "    </tr>\n",
       "  </thead>\n",
       "  <tbody>\n",
       "    <tr>\n",
       "      <th>5042394</th>\n",
       "      <td>22.0</td>\n",
       "      <td>-1.498624</td>\n",
       "      <td>23.498624</td>\n",
       "    </tr>\n",
       "    <tr>\n",
       "      <th>4891282</th>\n",
       "      <td>3.0</td>\n",
       "      <td>3.466170</td>\n",
       "      <td>-0.466170</td>\n",
       "    </tr>\n",
       "    <tr>\n",
       "      <th>4975198</th>\n",
       "      <td>73.0</td>\n",
       "      <td>20.104532</td>\n",
       "      <td>52.895468</td>\n",
       "    </tr>\n",
       "    <tr>\n",
       "      <th>5741439</th>\n",
       "      <td>28.0</td>\n",
       "      <td>20.254591</td>\n",
       "      <td>7.745409</td>\n",
       "    </tr>\n",
       "    <tr>\n",
       "      <th>760398</th>\n",
       "      <td>12.0</td>\n",
       "      <td>9.826160</td>\n",
       "      <td>2.173840</td>\n",
       "    </tr>\n",
       "    <tr>\n",
       "      <th>...</th>\n",
       "      <td>...</td>\n",
       "      <td>...</td>\n",
       "      <td>...</td>\n",
       "    </tr>\n",
       "    <tr>\n",
       "      <th>1218310</th>\n",
       "      <td>-6.0</td>\n",
       "      <td>14.840492</td>\n",
       "      <td>-20.840492</td>\n",
       "    </tr>\n",
       "    <tr>\n",
       "      <th>4344138</th>\n",
       "      <td>-10.0</td>\n",
       "      <td>11.485039</td>\n",
       "      <td>-21.485039</td>\n",
       "    </tr>\n",
       "    <tr>\n",
       "      <th>1559488</th>\n",
       "      <td>140.0</td>\n",
       "      <td>14.145784</td>\n",
       "      <td>125.854216</td>\n",
       "    </tr>\n",
       "    <tr>\n",
       "      <th>1043137</th>\n",
       "      <td>-1.0</td>\n",
       "      <td>5.010560</td>\n",
       "      <td>-6.010560</td>\n",
       "    </tr>\n",
       "    <tr>\n",
       "      <th>1725149</th>\n",
       "      <td>-11.0</td>\n",
       "      <td>8.025952</td>\n",
       "      <td>-19.025952</td>\n",
       "    </tr>\n",
       "  </tbody>\n",
       "</table>\n",
       "<p>1185883 rows × 3 columns</p>\n",
       "</div>"
      ],
      "text/plain": [
       "         Actual Value  Predicted Value  Difference\n",
       "5042394          22.0        -1.498624   23.498624\n",
       "4891282           3.0         3.466170   -0.466170\n",
       "4975198          73.0        20.104532   52.895468\n",
       "5741439          28.0        20.254591    7.745409\n",
       "760398           12.0         9.826160    2.173840\n",
       "...               ...              ...         ...\n",
       "1218310          -6.0        14.840492  -20.840492\n",
       "4344138         -10.0        11.485039  -21.485039\n",
       "1559488         140.0        14.145784  125.854216\n",
       "1043137          -1.0         5.010560   -6.010560\n",
       "1725149         -11.0         8.025952  -19.025952\n",
       "\n",
       "[1185883 rows x 3 columns]"
      ]
     },
     "execution_count": 66,
     "metadata": {},
     "output_type": "execute_result"
    }
   ],
   "source": [
    "pred_df\n"
   ]
  },
  {
   "cell_type": "code",
   "execution_count": null,
   "id": "b3973223",
   "metadata": {},
   "outputs": [],
   "source": []
  }
 ],
 "metadata": {
  "kernelspec": {
   "display_name": "Python 3 (ipykernel)",
   "language": "python",
   "name": "python3"
  },
  "language_info": {
   "codemirror_mode": {
    "name": "ipython",
    "version": 3
   },
   "file_extension": ".py",
   "mimetype": "text/x-python",
   "name": "python",
   "nbconvert_exporter": "python",
   "pygments_lexer": "ipython3",
   "version": "3.9.12"
  }
 },
 "nbformat": 4,
 "nbformat_minor": 5
}
